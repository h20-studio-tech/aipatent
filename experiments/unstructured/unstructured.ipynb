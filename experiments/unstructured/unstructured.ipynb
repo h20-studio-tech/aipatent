{
 "cells": [
  {
   "cell_type": "code",
   "execution_count": 2,
   "metadata": {},
   "outputs": [],
   "source": [
    "import logging\n",
    "from unstructured_client.models import operations, shared\n",
    "\n",
    "logging.basicConfig(\n",
    "    level=logging.INFO,\n",
    "    format='%(asctime)s - %(name)s - %(levelname)s - %(message)s',\n",
    "    datefmt='%Y-%m-%d %H:%M:%S'\n",
    ")\n",
    "\n",
    "file_path = rf\"C:\\Users\\vtorr\\Work\\Projects\\aipatent\\experiments\\unstructured\\docs\\GvHD patent background disease-target paper.pdf\"\n",
    "filename = \"gvhd-paper.pdf\"\n",
    "\n",
    "req = operations.PartitionRequest(\n",
    "            partition_parameters=shared.PartitionParameters(\n",
    "                files=shared.Files(\n",
    "                    content=open(file_path, \"rb\"),\n",
    "                    file_name=filename,\n",
    "                ),\n",
    "                chunking_strategy=shared.ChunkingStrategy.BY_SIMILARITY,\n",
    "                strategy=shared.Strategy.HI_RES,\n",
    "                languages=[\"eng\"],\n",
    "                split_pdf_page=True,\n",
    "                split_pdf_allow_failed=True,\n",
    "                split_pdf_concurrency_level=15,\n",
    "                max_characters=800,\n",
    "                overlap=400\n",
    "            ),\n",
    "        )\n",
    "\n",
    "\n"
   ]
  },
  {
   "cell_type": "code",
   "execution_count": 3,
   "metadata": {},
   "outputs": [],
   "source": [
    "import os\n",
    "import unstructured_client\n",
    "\n",
    "client = unstructured_client.UnstructuredClient(\n",
    "            api_key_auth=os.getenv(\"UNSTRUCTURED_API_KEY\"),\n",
    "            server_url=os.getenv(\"UNSTRUCTURED_API_URL\"),\n",
    "        )"
   ]
  },
  {
   "cell_type": "code",
   "execution_count": null,
   "metadata": {},
   "outputs": [
    {
     "name": "stderr",
     "output_type": "stream",
     "text": [
      "2025-02-24 15:36:49 - httpx - INFO - HTTP Request: GET https://api.unstructuredapp.io/general/docs \"HTTP/1.1 200 OK\"\n",
      "2025-02-24 15:37:28 - httpx - INFO - HTTP Request: POST https://api.unstructuredapp.io/general/v0/general \"HTTP/1.1 200 OK\"\n",
      "2025-02-24 15:37:33 - httpx - INFO - HTTP Request: POST https://api.unstructuredapp.io/general/v0/general \"HTTP/1.1 200 OK\"\n",
      "2025-02-24 15:37:37 - httpx - INFO - HTTP Request: POST https://api.unstructuredapp.io/general/v0/general \"HTTP/1.1 200 OK\"\n",
      "2025-02-24 15:37:37 - httpx - INFO - HTTP Request: POST https://api.unstructuredapp.io/general/v0/general \"HTTP/1.1 200 OK\"\n"
     ]
    }
   ],
   "source": [
    "import json\n",
    "\n",
    "res = client.general.partition(request=req)\n",
    "element_dicts = [element for element in res.elements]\n",
    "with open(file_path.replace(\".pdf\", \".json\"), \"w\") as f:\n",
    "    json.dump(element_dicts, f)"
   ]
  }
 ],
 "metadata": {
  "kernelspec": {
   "display_name": ".venv",
   "language": "python",
   "name": "python3"
  },
  "language_info": {
   "codemirror_mode": {
    "name": "ipython",
    "version": 3
   },
   "file_extension": ".py",
   "mimetype": "text/x-python",
   "name": "python",
   "nbconvert_exporter": "python",
   "pygments_lexer": "ipython3",
   "version": "3.11.8"
  }
 },
 "nbformat": 4,
 "nbformat_minor": 2
}
